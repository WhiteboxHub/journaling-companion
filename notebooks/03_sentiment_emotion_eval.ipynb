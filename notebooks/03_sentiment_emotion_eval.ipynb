{
 "cells": [
  {
   "cell_type": "code",
   "execution_count": null,
   "id": "914c872a",
   "metadata": {},
   "outputs": [],
   "source": [
    "from src.data_generation.labeler import EmotionLabeler\n",
    "\n",
    "entries = [\n",
    "    \"I felt overwhelmed after talking to my manager today.\",\n",
    "    \"Today was really peaceful, I enjoyed reading by the lake.\"\n",
    "]\n",
    "\n",
    "labeler = EmotionLabeler()\n",
    "results = labeler.label_emotions(entries)\n",
    "\n",
    "for entry, emotion_scores in zip(entries, results):\n",
    "    print(entry)\n",
    "    print(emotion_scores)"
   ]
  }
 ],
 "metadata": {
  "language_info": {
   "name": "python"
  }
 },
 "nbformat": 4,
 "nbformat_minor": 5
}
